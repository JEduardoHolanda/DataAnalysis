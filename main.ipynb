{
 "cells": [
  {
   "cell_type": "markdown",
   "id": "62cf5a84-84a7-4339-8f71-26c0fb1128b0",
   "metadata": {},
   "source": [
    "### Main Project\n"
   ]
  },
  {
   "cell_type": "code",
   "execution_count": null,
   "id": "7b1028f1-1018-4ed4-be5a-a9cb233a2e1f",
   "metadata": {},
   "outputs": [],
   "source": [
    "\n",
    "\n",
    "\n",
    "import requests\n",
    "\n",
    "url = 'https://sigel.aneel.gov.br/arcgis/rest/services/PORTAL/WFS/MapServer/0/query'\n",
    "\n",
    "response = requests.get(url)\n",
    "\n",
    "print('url: ', response.url)"
   ]
  },
  {
   "cell_type": "code",
   "execution_count": 5,
   "id": "1845844f-cbd2-4565-a36a-faa28372c895",
   "metadata": {},
   "outputs": [
    {
     "name": "stdout",
     "output_type": "stream",
     "text": [
      "Status code:  200\n"
     ]
    }
   ],
   "source": [
    "print('Status code: ', response.status_code)\n"
   ]
  },
  {
   "cell_type": "code",
   "execution_count": 6,
   "id": "80f69450-1b0a-49a3-9f54-f3d2f661dba7",
   "metadata": {},
   "outputs": [
    {
     "name": "stdout",
     "output_type": "stream",
     "text": [
      "HTTP header:  {'Cache-Control': 'must-revalidate,max-age=0,public', 'Transfer-Encoding': 'chunked', 'Content-Type': 'text/html; charset=utf-8', 'Content-Encoding': 'gzip', 'Vary': 'Origin', 'Server': 'Microsoft-IIS/10.0', 'X-Content-Type-Options': 'nosniff', 'X-XSS-Protection': '1; mode=block', 'X-Frame-Options': 'SAMEORIGIN', 'Set-Cookie': 'AGS_ROLES=\"419jqfa+uOZgYod4xPOQ8Q==\"; Version=1; Max-Age=60; Expires=Wed, 27 Nov 2024 22:40:36 GMT; Path=/arcgis/rest; HttpOnly', 'X-Powered-By': 'ASP.NET', 'Date': 'Wed, 27 Nov 2024 22:39:36 GMT'}\n"
     ]
    }
   ],
   "source": [
    "print('HTTP header: ', response.headers)"
   ]
  },
  {
   "cell_type": "code",
   "execution_count": null,
   "id": "44afba5b-4909-475f-bb64-b86b63242805",
   "metadata": {},
   "outputs": [],
   "source": []
  },
  {
   "cell_type": "code",
   "execution_count": null,
   "id": "0aa2d958-5eb7-4d44-b21b-aae99cc03db6",
   "metadata": {},
   "outputs": [],
   "source": []
  }
 ],
 "metadata": {
  "kernelspec": {
   "display_name": "Python 3 (ipykernel)",
   "language": "python",
   "name": "python3"
  },
  "language_info": {
   "codemirror_mode": {
    "name": "ipython",
    "version": 3
   },
   "file_extension": ".py",
   "mimetype": "text/x-python",
   "name": "python",
   "nbconvert_exporter": "python",
   "pygments_lexer": "ipython3",
   "version": "3.13.0"
  }
 },
 "nbformat": 4,
 "nbformat_minor": 5
}
