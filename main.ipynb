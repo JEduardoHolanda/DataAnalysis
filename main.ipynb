{
 "cells": [
  {
   "cell_type": "markdown",
   "id": "62cf5a84-84a7-4339-8f71-26c0fb1128b0",
   "metadata": {},
   "source": [
    "### Main Project\n"
   ]
  },
  {
   "cell_type": "code",
   "execution_count": 17,
   "id": "7b1028f1-1018-4ed4-be5a-a9cb233a2e1f",
   "metadata": {},
   "outputs": [
    {
     "name": "stdout",
     "output_type": "stream",
     "text": [
      "url:  https://sigel.aneel.gov.br/arcgis/rest/services/PORTAL/WFS/MapServer/0/query\n"
     ]
    }
   ],
   "source": [
    "import requests\n",
    "\n",
    "url = 'https://sigel.aneel.gov.br/arcgis/rest/services/PORTAL/WFS/MapServer/0/query'\n",
    "\n",
    "response = requests.get(url)\n",
    "\n",
    "print('url: ', response.url)"
   ]
  },
  {
   "cell_type": "code",
   "execution_count": 18,
   "id": "1845844f-cbd2-4565-a36a-faa28372c895",
   "metadata": {},
   "outputs": [
    {
     "name": "stdout",
     "output_type": "stream",
     "text": [
      "Status code:  200\n"
     ]
    }
   ],
   "source": [
    "print('Status code: ', response.status_code)"
   ]
  },
  {
   "cell_type": "code",
   "execution_count": 21,
   "id": "44afba5b-4909-475f-bb64-b86b63242805",
   "metadata": {},
   "outputs": [
    {
     "name": "stdout",
     "output_type": "stream",
     "text": [
      "{'displayFieldName': 'NOME_EOL', 'fieldAliases': {'POT_MW': 'Potência (MW)', 'ALT_TOTAL': 'Altura total', 'ALT_TORRE': 'Altura da torre', 'DIAM_ROTOR': 'Diâmetro do rotor', 'DATA_ATUALIZACAO': 'Data da atualização', 'EOL_VERSAO_ID': 'ID Empreendimento', 'NOME_EOL': 'Nome da EOL', 'DEN_AEG': 'Denominação do AG', 'X': 'E', 'Y': 'N', 'VERSAO': 'Versão atual', 'DATUM_EMP': 'Datum', 'OPERACAO': 'Operação Comercial', 'FUSO_AG': 'Fuso', 'PROPRIETARIO': 'Proprietário', 'ORIGEM': 'Origem do dado', 'OBJECTID': 'OBJECTID', 'UF': 'UF', 'CEG': 'CEG'}, 'geometryType': 'esriGeometryPoint', 'spatialReference': {'wkid': 4674, 'latestWkid': 4674, 'vcsWkid': 105700, 'latestVcsWkid': 105700}, 'fields': [{'name': 'POT_MW', 'type': 'esriFieldTypeDouble', 'alias': 'Potência (MW)'}, {'name': 'ALT_TOTAL', 'type': 'esriFieldTypeDouble', 'alias': 'Altura total'}, {'name': 'ALT_TORRE', 'type': 'esriFieldTypeDouble', 'alias': 'Altura da torre'}, {'name': 'DIAM_ROTOR', 'type': 'esriFieldTypeDouble', 'alias': 'Diâmetro do rotor'}, {'name': 'DATA_ATUALIZACAO', 'type': 'esriFieldTypeDate', 'alias': 'Data da atualização', 'length': 8}, {'name': 'EOL_VERSAO_ID', 'type': 'esriFieldTypeInteger', 'alias': 'ID Empreendimento'}, {'name': 'NOME_EOL', 'type': 'esriFieldTypeString', 'alias': 'Nome da EOL', 'length': 254}, {'name': 'DEN_AEG', 'type': 'esriFieldTypeString', 'alias': 'Denominação do AG', 'length': 100}, {'name': 'X', 'type': 'esriFieldTypeDouble', 'alias': 'E'}, {'name': 'Y', 'type': 'esriFieldTypeDouble', 'alias': 'N'}, {'name': 'VERSAO', 'type': 'esriFieldTypeString', 'alias': 'Versão atual', 'length': 50}, {'name': 'DATUM_EMP', 'type': 'esriFieldTypeString', 'alias': 'Datum', 'length': 50}, {'name': 'OPERACAO', 'type': 'esriFieldTypeString', 'alias': 'Operação Comercial', 'length': 50}, {'name': 'FUSO_AG', 'type': 'esriFieldTypeString', 'alias': 'Fuso', 'length': 50}, {'name': 'PROPRIETARIO', 'type': 'esriFieldTypeString', 'alias': 'Proprietário', 'length': 1000}, {'name': 'ORIGEM', 'type': 'esriFieldTypeString', 'alias': 'Origem do dado', 'length': 50}, {'name': 'OBJECTID', 'type': 'esriFieldTypeOID', 'alias': 'OBJECTID'}, {'name': 'UF', 'type': 'esriFieldTypeString', 'alias': 'UF', 'length': 50}, {'name': 'CEG', 'type': 'esriFieldTypeString', 'alias': 'CEG', 'length': 21}], 'features': [{'attributes': {'POT_MW': 1.85, 'ALT_TOTAL': 121.25, 'ALT_TORRE': 80.0, 'DIAM_ROTOR': 82.5, 'DATA_ATUALIZACAO': 1666625847000, 'EOL_VERSAO_ID': 30739, 'NOME_EOL': 'Caititu', 'DEN_AEG': 'CAI-083', 'X': 754125.0, 'Y': 8398879.0, 'VERSAO': 'Versão Válida', 'DATUM_EMP': 'WGS84', 'OPERACAO': 'Sim', 'FUSO_AG': 'UTM 23 S (MER -45)', 'PROPRIETARIO': 'Central Eólica Caititu S.A.', 'ORIGEM': None, 'OBJECTID': 1, 'UF': 'BA', 'CEG': 'EOLCVBA030739-4-01'}, 'geometry': {'x': -42.642494529999965, 'y': -14.470967592999955}}], 'exceededTransferLimit': True}\n"
     ]
    }
   ],
   "source": [
    "params = {\n",
    "    \"where\": \"1=1\",    \n",
    "    \"outFields\": \"*\", \n",
    "    \"f\": \"json\",\n",
    "    \"resultRecordCount\": 1\n",
    "} \n",
    "\n",
    "response = requests.get(url, params=params)\n",
    "if response.status_code == 200:\n",
    "    try:\n",
    "        data = response.json()  # Converter para JSON\n",
    "        print(data)\n",
    "    except ValueError:  # JSON inválido\n",
    "        print(\"Resposta não é um JSON válido.\")\n",
    "else:\n",
    "    print(f\"Erro na requisição: {response.status_code}\")\n",
    "\n"
   ]
  },
  {
   "cell_type": "code",
   "execution_count": null,
   "id": "cc9aa447-0d49-4f09-9d50-b8832aea8875",
   "metadata": {},
   "outputs": [],
   "source": []
  }
 ],
 "metadata": {
  "kernelspec": {
   "display_name": "Python 3 (ipykernel)",
   "language": "python",
   "name": "python3"
  },
  "language_info": {
   "codemirror_mode": {
    "name": "ipython",
    "version": 3
   },
   "file_extension": ".py",
   "mimetype": "text/x-python",
   "name": "python",
   "nbconvert_exporter": "python",
   "pygments_lexer": "ipython3",
   "version": "3.13.0"
  }
 },
 "nbformat": 4,
 "nbformat_minor": 5
}
